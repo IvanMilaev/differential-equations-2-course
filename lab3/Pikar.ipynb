{
 "cells": [
  {
   "cell_type": "code",
   "execution_count": 1,
   "metadata": {},
   "outputs": [],
   "source": [
    "import numpy as np\n",
    "import matplotlib.pyplot as plt\n",
    "from scipy.integrate import odeint\n",
    "import sympy as sp"
   ]
  },
  {
   "cell_type": "code",
   "execution_count": 32,
   "metadata": {},
   "outputs": [],
   "source": [
    "x = sp.Symbol('x')\n",
    "y = sp.Symbol('y')\n",
    "f = sp.Function('f')(x,y)\n",
    "f = x**2 + y**2"
   ]
  },
  {
   "cell_type": "code",
   "execution_count": 33,
   "metadata": {},
   "outputs": [],
   "source": [
    "e = sp.Symbol('e')\n"
   ]
  },
  {
   "cell_type": "code",
   "execution_count": 34,
   "metadata": {},
   "outputs": [
    {
     "name": "stdout",
     "output_type": "stream",
     "text": [
      " 3      \n",
      "x    343\n",
      "── - ───\n",
      "3     3 \n"
     ]
    }
   ],
   "source": [
    "y1 = 0+ sp.integrate(f.subs({x:e, y:0}),(e, 7, x))\n",
    "sp.pprint(y1)"
   ]
  },
  {
   "cell_type": "code",
   "execution_count": 35,
   "metadata": {},
   "outputs": [
    {
     "name": "stdout",
     "output_type": "stream",
     "text": [
      " 7        4    3                    \n",
      "x    343⋅x    x    117649⋅x   353633\n",
      "── - ────── + ── + ──────── - ──────\n",
      "63     18     3       9         6   \n"
     ]
    }
   ],
   "source": [
    "y2 = sp.integrate(f.subs({x:e, y:y1.subs(x,e)}),(e, 7, x))\n",
    "sp.pprint(y2)"
   ]
  },
  {
   "cell_type": "code",
   "execution_count": 36,
   "metadata": {},
   "outputs": [
    {
     "name": "stdout",
     "output_type": "stream",
     "text": [
      "  15        12      11          9         8    7             6            5   \n",
      " x      49⋅x     2⋅x     84035⋅x    8477⋅x    x    40353607⋅x    2705927⋅x    \n",
      "───── - ────── + ───── + ──────── - ─────── + ── - ─────────── + ────────── - \n",
      "59535    972      2079     972         36     63       486           6        \n",
      "\n",
      "        4                3                2                                   \n",
      "353633⋅x    13841287282⋅x    41604568817⋅x    125056298689⋅x   288912338616503\n",
      "───────── + ────────────── - ────────────── + ────────────── - ───────────────\n",
      "    36           243               54               36              53460     \n"
     ]
    }
   ],
   "source": [
    "y3 =  sp.integrate(f.subs({x:e, y:y2.subs(x,e)}),(e, 7, x))\n",
    "sp.pprint(y3)"
   ]
  },
  {
   "cell_type": "code",
   "execution_count": null,
   "metadata": {},
   "outputs": [],
   "source": []
  }
 ],
 "metadata": {
  "kernelspec": {
   "display_name": "Python 3",
   "language": "python",
   "name": "python3"
  },
  "language_info": {
   "codemirror_mode": {
    "name": "ipython",
    "version": 3
   },
   "file_extension": ".py",
   "mimetype": "text/x-python",
   "name": "python",
   "nbconvert_exporter": "python",
   "pygments_lexer": "ipython3",
   "version": "3.6.8"
  }
 },
 "nbformat": 4,
 "nbformat_minor": 2
}
