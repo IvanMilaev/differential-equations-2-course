{
 "cells": [
  {
   "cell_type": "code",
   "execution_count": 1,
   "metadata": {},
   "outputs": [],
   "source": [
    "import sympy as sp"
   ]
  },
  {
   "cell_type": "code",
   "execution_count": 4,
   "metadata": {},
   "outputs": [
    {
     "name": "stdout",
     "output_type": "stream",
     "text": [
      "⎡1  1⎤\n",
      "⎢    ⎥\n",
      "⎢2  4⎥\n",
      "⎢    ⎥\n",
      "⎣3  4⎦\n"
     ]
    }
   ],
   "source": [
    "m = sp.Matrix([[1,1],[2,4],[3,4]])\n",
    "sp.pprint(m)"
   ]
  },
  {
   "cell_type": "code",
   "execution_count": 20,
   "metadata": {},
   "outputs": [],
   "source": [
    "x = sp.Symbol('x')\n",
    "y = sp.Symbol('y')\n",
    "z = sp.Symbol('z')\n",
    "x0 = sp.Symbol('x0')\n",
    "y0 = sp.Symbol('y0')\n",
    "z0 = sp.Symbol('z0')\n",
    "x1 = sp.Symbol('x1')\n",
    "y1 = sp.Symbol('y1')\n",
    "z1 = sp.Symbol('z1')\n",
    "x2 = sp.Symbol('x2')\n",
    "y2 = sp.Symbol('y2')\n",
    "z2 = sp.Symbol('z2')"
   ]
  },
  {
   "cell_type": "code",
   "execution_count": 21,
   "metadata": {},
   "outputs": [
    {
     "name": "stdout",
     "output_type": "stream",
     "text": [
      "⎡x - x₀   -x₀ + x₁  -x₀ + x₂⎤\n",
      "⎢                           ⎥\n",
      "⎢-x₀ + y  -y₀ + y₁  -y₀ + y₂⎥\n",
      "⎢                           ⎥\n",
      "⎣z - z₀   -z₀ + z₁  -z₀ + z₂⎦\n"
     ]
    }
   ],
   "source": [
    "m = sp.Matrix([[x-x0, x1-x0, x2-x0],[y-x0, y1-y0, y2-y0],[z-z0,z1-z0,z2-z0]])\n",
    "sp.pprint(m)"
   ]
  },
  {
   "cell_type": "code",
   "execution_count": 22,
   "metadata": {},
   "outputs": [
    {
     "data": {
      "text/plain": [
       "(x - x0)*(-y0 + y1)*(-z0 + z2) - (x - x0)*(-y0 + y2)*(-z0 + z1) - (-x0 + x1)*(-x0 + y)*(-z0 + z2) + (-x0 + x1)*(-y0 + y2)*(z - z0) + (-x0 + x2)*(-x0 + y)*(-z0 + z1) - (-x0 + x2)*(-y0 + y1)*(z - z0)"
      ]
     },
     "execution_count": 22,
     "metadata": {},
     "output_type": "execute_result"
    }
   ],
   "source": [
    "m.det()"
   ]
  },
  {
   "cell_type": "code",
   "execution_count": null,
   "metadata": {},
   "outputs": [],
   "source": []
  }
 ],
 "metadata": {
  "kernelspec": {
   "display_name": "Python 3",
   "language": "python",
   "name": "python3"
  },
  "language_info": {
   "codemirror_mode": {
    "name": "ipython",
    "version": 3
   },
   "file_extension": ".py",
   "mimetype": "text/x-python",
   "name": "python",
   "nbconvert_exporter": "python",
   "pygments_lexer": "ipython3",
   "version": "3.6.8"
  }
 },
 "nbformat": 4,
 "nbformat_minor": 2
}
